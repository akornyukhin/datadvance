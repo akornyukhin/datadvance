{
 "cells": [
  {
   "cell_type": "code",
   "execution_count": 648,
   "metadata": {},
   "outputs": [],
   "source": [
    "import numpy as np\n",
    "import pandas as pd \n",
    " \n",
    "M = 100\n",
    "N = 1000000\n",
    "dT = 0.3\n",
    "\n",
    "# M = 2\n",
    "# N = 10\n",
    " \n",
    "df = pd.DataFrame({'feature1':np.random.randint(M, size=(N,)),\n",
    "                   'feature2':np.random.randint(M, size=(N,)),\n",
    "                   'time':np.random.rand(N)\n",
    "                   })\n",
    " \n",
    "df.to_csv('./incidents.csv', index_label='id')"
   ]
  },
  {
   "cell_type": "code",
   "execution_count": 593,
   "metadata": {
    "scrolled": false
   },
   "outputs": [
    {
     "name": "stdout",
     "output_type": "stream",
     "text": [
      "list index out of range\n"
     ]
    }
   ],
   "source": [
    "import sys\n",
    "import numpy as np\n",
    "import pandas as pd \n",
    "\n",
    "def incidents(input_path, output_path, dT=0.3):\n",
    "    df = pd.read_csv(input_path, index_col='id')\n",
    "    df_sorted = df.reset_index().sort_values('time', ascending=False)\n",
    "    d = df_sorted.as_matrix()\n",
    "\n",
    "    result = {}\n",
    "    len_ = df_sorted.shape[0]\n",
    "\n",
    "    for i in range(len_):\n",
    "        count = 0\n",
    "        for j in range(i+1, len_):\n",
    "            if d[i,1] == d[j,1] and d[i,2] == d[j,2] and abs(d[i,3] - d[j,3]) <= dT:\n",
    "                count += 1\n",
    "            else:\n",
    "                break\n",
    "        result[d[i,0]] = count\n",
    "\n",
    "    df_result = pd.DataFrame.from_dict(result, orient='index')\n",
    "    df_result = df_result.reset_index().astype('int').sort_values('index').rename(columns={'index': 'id', 0: 'count'})\n",
    "    df_result.to_csv(output_path, index=False)\n",
    "    \n",
    "    return print('You can see the file in the directory you have chosen')\n",
    "\n",
    "if __name__ == '__main__':\n",
    "    try:\n",
    "        incidents(sys.argv[1], sys.argv[2], sys.argv[3])\n",
    "    except Exception as e:\n",
    "        print(e)"
   ]
  },
  {
   "cell_type": "code",
   "execution_count": 592,
   "metadata": {
    "scrolled": true
   },
   "outputs": [
    {
     "name": "stdout",
     "output_type": "stream",
     "text": [
      "CPU times: user 4.27 s, sys: 224 ms, total: 4.49 s\n",
      "Wall time: 4.5 s\n"
     ]
    },
    {
     "data": {
      "text/plain": [
       "'You can see the file in the directory you have chosen'"
      ]
     },
     "execution_count": 592,
     "metadata": {},
     "output_type": "execute_result"
    }
   ],
   "source": [
    "%%time\n",
    "incidents(input_path='./incidents.csv', output_path='./result.csv')"
   ]
  },
  {
   "cell_type": "code",
   "execution_count": 485,
   "metadata": {},
   "outputs": [],
   "source": [
    "df = pd.read_csv('./incidents.csv', index_col='id')\n",
    "df_sorted = df.reset_index().sort_values('time', ascending=False)"
   ]
  },
  {
   "cell_type": "code",
   "execution_count": 649,
   "metadata": {},
   "outputs": [
    {
     "name": "stdout",
     "output_type": "stream",
     "text": [
      "CPU times: user 4.6 s, sys: 265 ms, total: 4.86 s\n",
      "Wall time: 4.88 s\n"
     ]
    }
   ],
   "source": [
    "%%time\n",
    "\n",
    "df = pd.read_csv('./incidents.csv', index_col='id')\n",
    "df_sorted = df.reset_index().sort_values('time', ascending=False)\n",
    "d = df_sorted.as_matrix()\n",
    "\n",
    "result = {}\n",
    "len_ = df_sorted.shape[0]\n",
    "\n",
    "\n",
    "for i in range(len_):\n",
    "    count = 0\n",
    "    for j in range(i+1, len_):\n",
    "        if d[i,1] == d[j,1] and d[i,2] == d[j,2] and abs(d[i,3] - d[j,3]) <= dT:\n",
    "            count += 1\n",
    "        else:\n",
    "            break\n",
    "    result[d[i,0]] = count\n",
    "\n",
    "df_result = pd.DataFrame.from_dict(result, orient='index')\n",
    "df_result = df_result.reset_index().astype('int').sort_values('index').rename(columns={'index': 'id', 0: 'count'})\n",
    "df_result.to_csv('./result.csv', index=False)"
   ]
  },
  {
   "cell_type": "code",
   "execution_count": 650,
   "metadata": {
    "scrolled": true
   },
   "outputs": [
    {
     "data": {
      "text/plain": [
       "0    999914\n",
       "1        86\n",
       "Name: count, dtype: int64"
      ]
     },
     "execution_count": 650,
     "metadata": {},
     "output_type": "execute_result"
    }
   ],
   "source": [
    "df_result['count'].value_counts()"
   ]
  },
  {
   "cell_type": "code",
   "execution_count": null,
   "metadata": {},
   "outputs": [],
   "source": []
  }
 ],
 "metadata": {
  "kernelspec": {
   "display_name": "Python 3",
   "language": "python",
   "name": "python3"
  },
  "language_info": {
   "codemirror_mode": {
    "name": "ipython",
    "version": 3
   },
   "file_extension": ".py",
   "mimetype": "text/x-python",
   "name": "python",
   "nbconvert_exporter": "python",
   "pygments_lexer": "ipython3",
   "version": "3.6.4"
  }
 },
 "nbformat": 4,
 "nbformat_minor": 2
}
