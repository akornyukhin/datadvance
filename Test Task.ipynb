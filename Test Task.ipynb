{
 "cells": [
  {
   "cell_type": "code",
   "execution_count": 20,
   "metadata": {},
   "outputs": [],
   "source": [
    "import numpy as np\n",
    "import pandas as pd \n",
    " \n",
    "M = 10\n",
    "N = 1000000\n",
    "dT = 0.3\n",
    "\n",
    "# M = 2\n",
    "# N = 10\n",
    " \n",
    "df = pd.DataFrame({'feature1':np.random.randint(M, size=(N,)),\n",
    "                   'feature2':np.random.randint(M, size=(N,)),\n",
    "                   'time':np.random.rand(N)\n",
    "                   })\n",
    " \n",
    "df.to_csv('./incidents.csv', index_label='id')"
   ]
  },
  {
   "cell_type": "code",
   "execution_count": 593,
   "metadata": {
    "scrolled": false
   },
   "outputs": [
    {
     "name": "stdout",
     "output_type": "stream",
     "text": [
      "list index out of range\n"
     ]
    }
   ],
   "source": [
    "import sys\n",
    "import numpy as np\n",
    "import pandas as pd \n",
    "\n",
    "def incidents(input_path, output_path, dT=0.3):\n",
    "    df = pd.read_csv(input_path, index_col='id')\n",
    "    df['feature3'] = (df.feature1 * 100).astype('str') + df.feature2.astype('str')\n",
    "    df = df.loc[:,['time','feature3']]\n",
    "    df_sorted = df.reset_index().sort_values(['feature3','time'], ascending=False)\n",
    "\n",
    "    d = df_sorted.as_matrix()\n",
    "\n",
    "    len_ = df_sorted.shape[0]\n",
    "    result = np.zeros(shape=(len_))\n",
    "\n",
    "    for i in tqdm_notebook(range(len_)):\n",
    "        count = 0\n",
    "        for j in range(i+1, len_):\n",
    "                if abs(d[i,1] - d[j,1]) <= dT:\n",
    "                    if d[i,2] == d[j,2]:\n",
    "                        count += 1\n",
    "                    else:\n",
    "                        break\n",
    "        result[int(d[i,0])] = count\n",
    "\n",
    "    return print('You can see the file in the directory you have chosen')\n",
    "\n",
    "if __name__ == '__main__':\n",
    "    try:\n",
    "        incidents(sys.argv[1], sys.argv[2], float(sys.argv[3]))\n",
    "    except Exception as e:\n",
    "        print(e)"
   ]
  },
  {
   "cell_type": "code",
   "execution_count": 311,
   "metadata": {},
   "outputs": [
    {
     "data": {
      "application/vnd.jupyter.widget-view+json": {
       "model_id": "6c25cb65468646c69e5d00d05b9e58c7",
       "version_major": 2,
       "version_minor": 0
      },
      "text/html": [
       "<p>Failed to display Jupyter Widget of type <code>HBox</code>.</p>\n",
       "<p>\n",
       "  If you're reading this message in the Jupyter Notebook or JupyterLab Notebook, it may mean\n",
       "  that the widgets JavaScript is still loading. If this message persists, it\n",
       "  likely means that the widgets JavaScript library is either not installed or\n",
       "  not enabled. See the <a href=\"https://ipywidgets.readthedocs.io/en/stable/user_install.html\">Jupyter\n",
       "  Widgets Documentation</a> for setup instructions.\n",
       "</p>\n",
       "<p>\n",
       "  If you're reading this message in another frontend (for example, a static\n",
       "  rendering on GitHub or <a href=\"https://nbviewer.jupyter.org/\">NBViewer</a>),\n",
       "  it may mean that your frontend doesn't currently support widgets.\n",
       "</p>\n"
      ],
      "text/plain": [
       "HBox(children=(IntProgress(value=0, max=1000000), HTML(value='')))"
      ]
     },
     "metadata": {},
     "output_type": "display_data"
    },
    {
     "name": "stdout",
     "output_type": "stream",
     "text": [
      "CPU times: user 40.9 s, sys: 1.12 s, total: 42 s\n",
      "Wall time: 41.5 s\n"
     ]
    }
   ],
   "source": [
    "%%time\n",
    "import pandas as pd\n",
    "from tqdm import tqdm_notebook\n",
    "dT = 0.3\n",
    "\n",
    "df = pd.read_csv('./incidents.csv', index_col='id')\n",
    "\n",
    "df['feature3'] = (df.feature1 * 100).astype('str') + df.feature2.astype('str')\n",
    "df = df.loc[:,['time','feature3']]\n",
    "df_sorted = df.reset_index().sort_values(['feature3','time'], ascending=False)\n",
    "\n",
    "d = df_sorted.as_matrix()\n",
    "\n",
    "len_ = df_sorted.shape[0]\n",
    "result = np.zeros(shape=(len_))\n",
    "\n",
    "for i in tqdm_notebook(range(len_)):\n",
    "    count = 0\n",
    "    for j in range(i+1, len_):\n",
    "            if abs(d[i,1] - d[j,1]) <= dT:\n",
    "                if d[i,2] == d[j,2]:\n",
    "                    count += 1\n",
    "                else:\n",
    "                    break\n",
    "    result[int(d[i,0])] = count\n",
    "\n",
    "df_result = pd.DataFrame(result, columns=['count'], dtype='int32')\n",
    "df_result.to_csv('./result.csv', index=True, index_label= 'id', sep=';')"
   ]
  },
  {
   "cell_type": "code",
   "execution_count": 309,
   "metadata": {},
   "outputs": [
    {
     "data": {
      "text/html": [
       "<div>\n",
       "<style scoped>\n",
       "    .dataframe tbody tr th:only-of-type {\n",
       "        vertical-align: middle;\n",
       "    }\n",
       "\n",
       "    .dataframe tbody tr th {\n",
       "        vertical-align: top;\n",
       "    }\n",
       "\n",
       "    .dataframe thead th {\n",
       "        text-align: right;\n",
       "    }\n",
       "</style>\n",
       "<table border=\"1\" class=\"dataframe\">\n",
       "  <thead>\n",
       "    <tr style=\"text-align: right;\">\n",
       "      <th></th>\n",
       "      <th>id</th>\n",
       "      <th>count</th>\n",
       "    </tr>\n",
       "  </thead>\n",
       "  <tbody>\n",
       "    <tr>\n",
       "      <th>0</th>\n",
       "      <td>0</td>\n",
       "      <td>27</td>\n",
       "    </tr>\n",
       "    <tr>\n",
       "      <th>1</th>\n",
       "      <td>1</td>\n",
       "      <td>30</td>\n",
       "    </tr>\n",
       "    <tr>\n",
       "      <th>2</th>\n",
       "      <td>2</td>\n",
       "      <td>30</td>\n",
       "    </tr>\n",
       "    <tr>\n",
       "      <th>3</th>\n",
       "      <td>3</td>\n",
       "      <td>27</td>\n",
       "    </tr>\n",
       "    <tr>\n",
       "      <th>4</th>\n",
       "      <td>4</td>\n",
       "      <td>26</td>\n",
       "    </tr>\n",
       "  </tbody>\n",
       "</table>\n",
       "</div>"
      ],
      "text/plain": [
       "   id  count\n",
       "0   0     27\n",
       "1   1     30\n",
       "2   2     30\n",
       "3   3     27\n",
       "4   4     26"
      ]
     },
     "execution_count": 309,
     "metadata": {},
     "output_type": "execute_result"
    }
   ],
   "source": [
    "df_result.head()"
   ]
  },
  {
   "cell_type": "code",
   "execution_count": null,
   "metadata": {},
   "outputs": [],
   "source": []
  }
 ],
 "metadata": {
  "kernelspec": {
   "display_name": "Python 3",
   "language": "python",
   "name": "python3"
  },
  "language_info": {
   "codemirror_mode": {
    "name": "ipython",
    "version": 3
   },
   "file_extension": ".py",
   "mimetype": "text/x-python",
   "name": "python",
   "nbconvert_exporter": "python",
   "pygments_lexer": "ipython3",
   "version": "3.6.4"
  }
 },
 "nbformat": 4,
 "nbformat_minor": 2
}
